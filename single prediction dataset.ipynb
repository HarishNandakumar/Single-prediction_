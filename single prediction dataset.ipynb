{
  "nbformat": 4,
  "nbformat_minor": 0,
  "metadata": {
    "colab": {
      "provenance": []
    },
    "kernelspec": {
      "name": "python3",
      "display_name": "Python 3"
    },
    "language_info": {
      "name": "python"
    }
  },
  "cells": [
    {
      "cell_type": "code",
      "execution_count": 1,
      "metadata": {
        "colab": {
          "base_uri": "https://localhost:8080/"
        },
        "id": "JZh6soDWKdf0",
        "outputId": "e6395208-eb56-4bcb-b1a2-81195ef0390f"
      },
      "outputs": [
        {
          "output_type": "stream",
          "name": "stdout",
          "text": [
            "Enter the search term: SERVICE CHARGES FOR THE MONTH OF OCTOBER\n",
            "Updated data saved to /content/Data.xlsx - Checking.csv\n"
          ]
        }
      ],
      "source": [
        "import pandas as pd\n",
        "\n",
        "def add_predicted_account_head(file_path, search_term):\n",
        "    # Read the CSV file into a DataFrame\n",
        "    df = pd.read_csv(file_path)\n",
        "\n",
        "    # Create a new column for Predicted Account Head\n",
        "    df['Predicted Account Head'] = None\n",
        "\n",
        "    # Iterate through each row and apply the search criteria\n",
        "    for index, row in df.iterrows():\n",
        "        if row.astype(str).str.contains(search_term, case=False).any():\n",
        "            df.at[index, 'Predicted Account Head'] = row['Account Head']\n",
        "\n",
        "    return df\n",
        "\n",
        "# Example usage\n",
        "file_path = '/content/Copy of Data1.xlsx - Checking.csv'  # Replace with the path to your CSV file\n",
        "search_term = input(\"Enter the search term: \")\n",
        "\n",
        "df_with_predictions = add_predicted_account_head(file_path, search_term)\n",
        "\n",
        "# Save the updated DataFrame to a new CSV file\n",
        "output_file_path = '/content/Data.xlsx - Checking.csv'\n",
        "df_with_predictions.to_csv(output_file_path, index=False)\n",
        "\n",
        "print(f\"Updated data saved to {output_file_path}\")\n"
      ]
    },
    {
      "cell_type": "code",
      "source": [],
      "metadata": {
        "id": "L61jeU3aLhMT"
      },
      "execution_count": null,
      "outputs": []
    }
  ]
}